{
 "cells": [
  {
   "cell_type": "code",
   "execution_count": 4,
   "metadata": {},
   "outputs": [
    {
     "ename": "ModuleNotFoundError",
     "evalue": "No module named 'pytorch_lightning'",
     "output_type": "error",
     "traceback": [
      "\u001b[1;31m---------------------------------------------------------------------------\u001b[0m",
      "\u001b[1;31mModuleNotFoundError\u001b[0m                       Traceback (most recent call last)",
      "\u001b[1;32m<ipython-input-4-c6879fc86db5>\u001b[0m in \u001b[0;36m<module>\u001b[1;34m\u001b[0m\n\u001b[0;32m     11\u001b[0m \u001b[1;33m\u001b[0m\u001b[0m\n\u001b[0;32m     12\u001b[0m \u001b[1;32mimport\u001b[0m \u001b[0mtorch\u001b[0m\u001b[1;33m\u001b[0m\u001b[1;33m\u001b[0m\u001b[0m\n\u001b[1;32m---> 13\u001b[1;33m \u001b[1;32mfrom\u001b[0m \u001b[0mpytorch_lightning\u001b[0m \u001b[1;32mimport\u001b[0m \u001b[0mTrainer\u001b[0m\u001b[1;33m,\u001b[0m \u001b[0mseed_everything\u001b[0m\u001b[1;33m\u001b[0m\u001b[1;33m\u001b[0m\u001b[0m\n\u001b[0m\u001b[0;32m     14\u001b[0m \u001b[1;32mfrom\u001b[0m \u001b[0mpytorch_lightning\u001b[0m\u001b[1;33m.\u001b[0m\u001b[0mloggers\u001b[0m \u001b[1;32mimport\u001b[0m \u001b[0mWandbLogger\u001b[0m\u001b[1;33m\u001b[0m\u001b[1;33m\u001b[0m\u001b[0m\n\u001b[0;32m     15\u001b[0m \u001b[1;32mfrom\u001b[0m \u001b[0mpytorch_lightning\u001b[0m\u001b[1;33m.\u001b[0m\u001b[0mcallbacks\u001b[0m \u001b[1;32mimport\u001b[0m \u001b[0mModelCheckpoint\u001b[0m\u001b[1;33m\u001b[0m\u001b[1;33m\u001b[0m\u001b[0m\n",
      "\u001b[1;31mModuleNotFoundError\u001b[0m: No module named 'pytorch_lightning'"
     ]
    }
   ],
   "source": [
    "import os\n",
    "import pdb\n",
    "import argparse\n",
    "import string\n",
    "import random\n",
    "import pandas as pd\n",
    "import numpy as np\n",
    "import wandb\n",
    "\n",
    "from sklearn.model_selection import train_test_split\n",
    "\n",
    "import torch\n",
    "from pytorch_lightning import Trainer, seed_everything\n",
    "from pytorch_lightning.loggers import WandbLogger\n",
    "from pytorch_lightning.callbacks import ModelCheckpoint\n",
    "\n",
    "from data import CelebADataset, CelebADatasetModule\n",
    "from model import FRBaseline"
   ]
  },
  {
   "cell_type": "code",
   "execution_count": 12,
   "metadata": {},
   "outputs": [],
   "source": [
    "# pip install facenet_pytorch"
   ]
  },
  {
   "cell_type": "code",
   "execution_count": null,
   "metadata": {},
   "outputs": [],
   "source": [
    "def get_parser():\n",
    "\tparser = argparse.ArgumentParser()\n",
    "\tparser.add_argument('--name', type=str, default=''.join(random.choice(string.ascii_lowercase) for i in range(10)))\n",
    "\tparser.add_argument('--seed', type=int, default=7)\n",
    "\tparser.add_argument('--accelerator', type=str, default='cpu')\n",
    "\tparser.add_argument('--test_only', action='store_true')\n",
    "\n",
    "\tparser.add_argument('--public_path', type=str, default='./repo/public.csv')\n",
    "\tparser.add_argument('--private_path', type=str, default='./repo/private.csv')\n",
    "\n",
    "\t# data\n",
    "\tparser.add_argument('--train_frac', type=float, default=1.0)\n",
    "\tparser.add_argument('--val_frac', type=float, default=1.0)\n",
    "\tparser.add_argument('--test_frac', type=float, default=1.0)\n",
    "\tparser.add_argument('--train_val_split', type=float, default=0.3)\n",
    "\tparser.add_argument('--train_test_split', type=float, default=0.3)\n",
    "\tparser.add_argument('--val_pairs', type=int, default=1000)\n",
    "\tparser.add_argument('--test_pairs', type=int, default=1000)\n",
    "\tparser.add_argument('--classnum', type=int, default=0)\n",
    "\tparser.add_argument('--batch_size', type=int, default=128)\n",
    "\tparser.add_argument('--num_workers', type=int, default=0)\n",
    "\tparser.add_argument('--max_len', type=int, default=300)\n",
    "\tparser.add_argument('--max_vocab', type=int, default=1000)\n",
    "\tparser.add_argument('--img_size', type=int, default=256)\n",
    "\tparser.add_argument('--crop_size', type=int, default=224)\n",
    "\n",
    "\t# train\n",
    "\tparser.add_argument('--log', action='store_true')\n",
    "\tparser.add_argument('--epoches', type=int, default=20)\n",
    "\tparser.add_argument('--base_lr', type=float, default=1e-4)\n",
    "\tparser.add_argument('--weight_decay', type=float, default=2e-5)\n",
    "\tparser.add_argument('--seg_keep_prob', type=float, default=1.)\n",
    "\tparser.add_argument('--dropout', type=float, default=0.1)\n",
    "\n",
    "\t# model\n",
    "\tparser.add_argument('--pretrain', action='store_true')\n",
    "\tparser.add_argument('--backbone', type=str, default='inceptionresnetv1')\n",
    "\tparser.add_argument('--resume', type=str, default='')\n",
    "\n",
    "\t# test\n",
    "\tparser.add_argument('--ckpt', type=str, default='')\n",
    "\n",
    "\topt = parser.parse_args()\n",
    "\n",
    "\treturn opt"
   ]
  },
  {
   "cell_type": "code",
   "execution_count": null,
   "metadata": {},
   "outputs": [],
   "source": [
    "model = FRBaseline(opt)"
   ]
  },
  {
   "cell_type": "code",
   "execution_count": 3,
   "metadata": {
    "scrolled": false
   },
   "outputs": [],
   "source": [
    "# pip install git+https://github.com/PyTorchLightning/pytorch-lightning"
   ]
  },
  {
   "cell_type": "code",
   "execution_count": 18,
   "metadata": {},
   "outputs": [
    {
     "name": "stdout",
     "output_type": "stream",
     "text": [
      "Collecting pytorch-lightning\n",
      "  Using cached https://files.pythonhosted.org/packages/00/eb/3b2152f9c3a50d265f3e75529254228ace8a86e9a4397f3004f1e3be7825/pytorch_lightning-1.7.7-py3-none-any.whl\n",
      "Requirement already satisfied (use --upgrade to upgrade): torch>=1.9.* in c:\\users\\akgo1\\anaconda3\\lib\\site-packages (from pytorch-lightning)\n",
      "Requirement already satisfied (use --upgrade to upgrade): fsspec[http]!=2021.06.0,>=2021.05.0 in c:\\users\\akgo1\\anaconda3\\lib\\site-packages (from pytorch-lightning)\n",
      "Requirement already satisfied (use --upgrade to upgrade): numpy>=1.17.2 in c:\\users\\akgo1\\anaconda3\\lib\\site-packages (from pytorch-lightning)\n",
      "Requirement already satisfied (use --upgrade to upgrade): tensorboard>=2.9.1 in c:\\users\\akgo1\\anaconda3\\lib\\site-packages (from pytorch-lightning)\n",
      "Requirement already satisfied (use --upgrade to upgrade): tqdm>=4.57.0 in c:\\users\\akgo1\\anaconda3\\lib\\site-packages (from pytorch-lightning)\n",
      "Note: you may need to restart the kernel to use updated packages.\n"
     ]
    },
    {
     "name": "stderr",
     "output_type": "stream",
     "text": [
      "Exception:\n",
      "Traceback (most recent call last):\n",
      "  File \"C:\\Users\\akgo1\\anaconda3\\lib\\site-packages\\pip\\_vendor\\pkg_resources\\__init__.py\", line 2851, in _dep_map\n",
      "    return self.__dep_map\n",
      "  File \"C:\\Users\\akgo1\\anaconda3\\lib\\site-packages\\pip\\_vendor\\pkg_resources\\__init__.py\", line 2685, in __getattr__\n",
      "    raise AttributeError(attr)\n",
      "AttributeError: _DistInfoDistribution__dep_map\n",
      "\n",
      "During handling of the above exception, another exception occurred:\n",
      "\n",
      "Traceback (most recent call last):\n",
      "  File \"C:\\Users\\akgo1\\anaconda3\\lib\\site-packages\\pip\\basecommand.py\", line 209, in main\n",
      "    status = self.run(options, args)\n",
      "  File \"C:\\Users\\akgo1\\anaconda3\\lib\\site-packages\\pip\\commands\\install.py\", line 310, in run\n",
      "    wb.build(autobuilding=True)\n",
      "  File \"C:\\Users\\akgo1\\anaconda3\\lib\\site-packages\\pip\\wheel.py\", line 748, in build\n",
      "    self.requirement_set.prepare_files(self.finder)\n",
      "  File \"C:\\Users\\akgo1\\anaconda3\\lib\\site-packages\\pip\\req\\req_set.py\", line 356, in prepare_files\n",
      "    discovered_reqs.extend(self._prepare_file(\n",
      "  File \"C:\\Users\\akgo1\\anaconda3\\lib\\site-packages\\pip\\req\\req_set.py\", line 647, in _prepare_file\n",
      "    set(req_to_install.extras) - set(dist.extras)\n",
      "  File \"C:\\Users\\akgo1\\anaconda3\\lib\\site-packages\\pip\\_vendor\\pkg_resources\\__init__.py\", line 2810, in extras\n",
      "    return [dep for dep in self._dep_map if dep]\n",
      "  File \"C:\\Users\\akgo1\\anaconda3\\lib\\site-packages\\pip\\_vendor\\pkg_resources\\__init__.py\", line 2853, in _dep_map\n",
      "    self.__dep_map = self._compute_dependencies()\n",
      "  File \"C:\\Users\\akgo1\\anaconda3\\lib\\site-packages\\pip\\_vendor\\pkg_resources\\__init__.py\", line 2886, in _compute_dependencies\n",
      "    common = frozenset(reqs_for_extra(None))\n",
      "  File \"C:\\Users\\akgo1\\anaconda3\\lib\\site-packages\\pip\\_vendor\\pkg_resources\\__init__.py\", line 2883, in reqs_for_extra\n",
      "    if req.marker_fn(override={'extra':extra}):\n",
      "  File \"C:\\Users\\akgo1\\anaconda3\\lib\\site-packages\\pip\\_vendor\\_markerlib\\markers.py\", line 113, in marker_fn\n",
      "    return eval(compiled_marker, environment)\n",
      "  File \"<environment marker>\", line 1, in <module>\n",
      "NameError: name 'platform_system' is not defined\n"
     ]
    }
   ],
   "source": [
    "pip install pytorch-lightning"
   ]
  },
  {
   "cell_type": "code",
   "execution_count": 17,
   "metadata": {},
   "outputs": [
    {
     "name": "stdout",
     "output_type": "stream",
     "text": [
      "Collecting pytorch-lightning\n",
      "  Using cached https://files.pythonhosted.org/packages/00/eb/3b2152f9c3a50d265f3e75529254228ace8a86e9a4397f3004f1e3be7825/pytorch_lightning-1.7.7-py3-none-any.whl\n",
      "Requirement already satisfied (use --upgrade to upgrade): torch>=1.9.* in c:\\users\\akgo1\\anaconda3\\lib\\site-packages (from pytorch-lightning)\n",
      "Requirement already satisfied (use --upgrade to upgrade): tensorboard>=2.9.1 in c:\\users\\akgo1\\anaconda3\\lib\\site-packages (from pytorch-lightning)\n",
      "Requirement already satisfied (use --upgrade to upgrade): tqdm>=4.57.0 in c:\\users\\akgo1\\anaconda3\\lib\\site-packages (from pytorch-lightning)\n",
      "Note: you may need to restart the kernel to use updated packages.\n"
     ]
    },
    {
     "name": "stderr",
     "output_type": "stream",
     "text": [
      "Exception:\n",
      "Traceback (most recent call last):\n",
      "  File \"C:\\Users\\akgo1\\anaconda3\\lib\\site-packages\\pip\\_vendor\\pkg_resources\\__init__.py\", line 2851, in _dep_map\n",
      "    return self.__dep_map\n",
      "  File \"C:\\Users\\akgo1\\anaconda3\\lib\\site-packages\\pip\\_vendor\\pkg_resources\\__init__.py\", line 2685, in __getattr__\n",
      "    raise AttributeError(attr)\n",
      "AttributeError: _DistInfoDistribution__dep_map\n",
      "\n",
      "During handling of the above exception, another exception occurred:\n",
      "\n",
      "Traceback (most recent call last):\n",
      "  File \"C:\\Users\\akgo1\\anaconda3\\lib\\site-packages\\pip\\basecommand.py\", line 209, in main\n",
      "    status = self.run(options, args)\n",
      "  File \"C:\\Users\\akgo1\\anaconda3\\lib\\site-packages\\pip\\commands\\install.py\", line 310, in run\n",
      "    wb.build(autobuilding=True)\n",
      "  File \"C:\\Users\\akgo1\\anaconda3\\lib\\site-packages\\pip\\wheel.py\", line 748, in build\n",
      "    self.requirement_set.prepare_files(self.finder)\n",
      "  File \"C:\\Users\\akgo1\\anaconda3\\lib\\site-packages\\pip\\req\\req_set.py\", line 356, in prepare_files\n",
      "    discovered_reqs.extend(self._prepare_file(\n",
      "  File \"C:\\Users\\akgo1\\anaconda3\\lib\\site-packages\\pip\\req\\req_set.py\", line 647, in _prepare_file\n",
      "    set(req_to_install.extras) - set(dist.extras)\n",
      "  File \"C:\\Users\\akgo1\\anaconda3\\lib\\site-packages\\pip\\_vendor\\pkg_resources\\__init__.py\", line 2810, in extras\n",
      "    return [dep for dep in self._dep_map if dep]\n",
      "  File \"C:\\Users\\akgo1\\anaconda3\\lib\\site-packages\\pip\\_vendor\\pkg_resources\\__init__.py\", line 2853, in _dep_map\n",
      "    self.__dep_map = self._compute_dependencies()\n",
      "  File \"C:\\Users\\akgo1\\anaconda3\\lib\\site-packages\\pip\\_vendor\\pkg_resources\\__init__.py\", line 2886, in _compute_dependencies\n",
      "    common = frozenset(reqs_for_extra(None))\n",
      "  File \"C:\\Users\\akgo1\\anaconda3\\lib\\site-packages\\pip\\_vendor\\pkg_resources\\__init__.py\", line 2883, in reqs_for_extra\n",
      "    if req.marker_fn(override={'extra':extra}):\n",
      "  File \"C:\\Users\\akgo1\\anaconda3\\lib\\site-packages\\pip\\_vendor\\_markerlib\\markers.py\", line 113, in marker_fn\n",
      "    return eval(compiled_marker, environment)\n",
      "  File \"<environment marker>\", line 1, in <module>\n",
      "NameError: name 'platform_system' is not defined\n"
     ]
    }
   ],
   "source": [
    "pip install pytorch_lightning"
   ]
  },
  {
   "cell_type": "code",
   "execution_count": 10,
   "metadata": {},
   "outputs": [
    {
     "name": "stdout",
     "output_type": "stream",
     "text": [
      "Collecting pytorch\n",
      "  Using cached https://files.pythonhosted.org/packages/ee/67/f403d4ae6e9cd74b546ee88cccdb29b8415a9c1b3d80aebeb20c9ea91d96/pytorch-1.0.2.tar.gz\n",
      "Note: you may need to restart the kernel to use updated packages.\n"
     ]
    },
    {
     "name": "stderr",
     "output_type": "stream",
     "text": [
      "C:\\Users\\akgo1\\AppData\\Roaming\\Python\\Python38\\site-packages\\_distutils_hack\\__init__.py:18: UserWarning: Distutils was imported before Setuptools, but importing Setuptools also replaces the `distutils` module in `sys.modules`. This may lead to undesirable behaviors or errors. To avoid these issues, avoid using distutils directly, ensure that setuptools is installed in the traditional way (e.g. not an editable install), and/or make sure that setuptools is always imported before distutils.\n",
      "  warnings.warn(\n",
      "C:\\Users\\akgo1\\AppData\\Roaming\\Python\\Python38\\site-packages\\_distutils_hack\\__init__.py:33: UserWarning: Setuptools is replacing distutils.\n",
      "  warnings.warn(\"Setuptools is replacing distutils.\")\n",
      "Exception:\n",
      "Traceback (most recent call last):\n",
      "  File \"C:\\Users\\akgo1\\anaconda3\\lib\\site-packages\\pip\\basecommand.py\", line 209, in main\n",
      "    status = self.run(options, args)\n",
      "  File \"C:\\Users\\akgo1\\anaconda3\\lib\\site-packages\\pip\\commands\\install.py\", line 310, in run\n",
      "    wb.build(autobuilding=True)\n",
      "  File \"C:\\Users\\akgo1\\anaconda3\\lib\\site-packages\\pip\\wheel.py\", line 748, in build\n",
      "    self.requirement_set.prepare_files(self.finder)\n",
      "  File \"C:\\Users\\akgo1\\anaconda3\\lib\\site-packages\\pip\\req\\req_set.py\", line 356, in prepare_files\n",
      "    discovered_reqs.extend(self._prepare_file(\n",
      "  File \"C:\\Users\\akgo1\\anaconda3\\lib\\site-packages\\pip\\req\\req_set.py\", line 591, in _prepare_file\n",
      "    abstract_dist.prep_for_dist()\n",
      "  File \"C:\\Users\\akgo1\\anaconda3\\lib\\site-packages\\pip\\req\\req_set.py\", line 127, in prep_for_dist\n",
      "    self.req_to_install.run_egg_info()\n",
      "  File \"C:\\Users\\akgo1\\anaconda3\\lib\\site-packages\\pip\\req\\req_install.py\", line 402, in run_egg_info\n",
      "    self.setup_py, self.name,\n",
      "  File \"C:\\Users\\akgo1\\anaconda3\\lib\\site-packages\\pip\\req\\req_install.py\", line 377, in setup_py\n",
      "    import setuptools  # noqa\n",
      "  File \"C:\\Users\\akgo1\\AppData\\Roaming\\Python\\Python38\\site-packages\\setuptools\\__init__.py\", line 8, in <module>\n",
      "    import _distutils_hack.override  # noqa: F401\n",
      "  File \"C:\\Users\\akgo1\\AppData\\Roaming\\Python\\Python38\\site-packages\\_distutils_hack\\override.py\", line 1, in <module>\n",
      "    __import__('_distutils_hack').do_override()\n",
      "  File \"C:\\Users\\akgo1\\AppData\\Roaming\\Python\\Python38\\site-packages\\_distutils_hack\\__init__.py\", line 77, in do_override\n",
      "    ensure_local_distutils()\n",
      "  File \"C:\\Users\\akgo1\\AppData\\Roaming\\Python\\Python38\\site-packages\\_distutils_hack\\__init__.py\", line 64, in ensure_local_distutils\n",
      "    assert '_distutils' in core.__file__, core.__file__\n",
      "AssertionError: C:\\Users\\akgo1\\anaconda3\\lib\\distutils\\core.py\n"
     ]
    }
   ],
   "source": [
    "pip install --user --upgrade pytorch"
   ]
  },
  {
   "cell_type": "code",
   "execution_count": 10,
   "metadata": {},
   "outputs": [
    {
     "name": "stdout",
     "output_type": "stream",
     "text": [
      "Collecting setuptools==65.4.0Note: you may need to restart the kernel to use updated packages.\n",
      "  Using cached https://files.pythonhosted.org/packages/d5/e6/e3a70a77dda22766b9ef4ff47ff8320720311e78d11d1401baffca3f6879/setuptools-65.4.0-py3-none-any.whl\n",
      "Installing collected packages: setuptools\n",
      "  Found existing installation: setuptools 44.1.1\n",
      "    Uninstalling setuptools-44.1.1:\n",
      "      Successfully uninstalled setuptools-44.1.1\n",
      "Successfully installed setuptools-65.4.0\n",
      "\n"
     ]
    }
   ],
   "source": [
    "pip install setuptools==65.4.0"
   ]
  },
  {
   "cell_type": "code",
   "execution_count": 16,
   "metadata": {},
   "outputs": [
    {
     "name": "stdout",
     "output_type": "stream",
     "text": [
      "Requirement already satisfied (use --upgrade to upgrade): pip==22.2.2 in c:\\users\\akgo1\\anaconda3\\lib\\site-packages\n",
      "Note: you may need to restart the kernel to use updated packages.\n"
     ]
    }
   ],
   "source": [
    "pip install pip==22.2.2"
   ]
  },
  {
   "cell_type": "code",
   "execution_count": 28,
   "metadata": {},
   "outputs": [],
   "source": [
    "# pip install -U setuptools==44.1.1"
   ]
  },
  {
   "cell_type": "code",
   "execution_count": 15,
   "metadata": {},
   "outputs": [
    {
     "name": "stdout",
     "output_type": "stream",
     "text": [
      "Requirement already up-to-date: pip in c:\\users\\akgo1\\anaconda3\\lib\\site-packages\n",
      "Requirement already up-to-date: setuptools in c:\\users\\akgo1\\appdata\\roaming\\python\\python38\\site-packages\n",
      "Note: you may need to restart the kernel to use updated packages.\n"
     ]
    }
   ],
   "source": [
    "pip install --upgrade pip setuptools"
   ]
  },
  {
   "cell_type": "code",
   "execution_count": 19,
   "metadata": {},
   "outputs": [
    {
     "name": "stdout",
     "output_type": "stream",
     "text": [
      "Requirement already up-to-date: pip in c:\\users\\akgo1\\anaconda3\\lib\\site-packages\n",
      "Note: you may need to restart the kernel to use updated packages.\n"
     ]
    }
   ],
   "source": [
    "pip install -U pip"
   ]
  }
 ],
 "metadata": {
  "kernelspec": {
   "display_name": "Python 3",
   "language": "python",
   "name": "python3"
  },
  "language_info": {
   "codemirror_mode": {
    "name": "ipython",
    "version": 3
   },
   "file_extension": ".py",
   "mimetype": "text/x-python",
   "name": "python",
   "nbconvert_exporter": "python",
   "pygments_lexer": "ipython3",
   "version": "3.8.5"
  }
 },
 "nbformat": 4,
 "nbformat_minor": 4
}
