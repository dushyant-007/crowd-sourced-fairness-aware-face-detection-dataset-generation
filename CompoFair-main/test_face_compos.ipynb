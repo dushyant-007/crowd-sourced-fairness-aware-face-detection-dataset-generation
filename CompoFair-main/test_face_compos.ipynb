{
 "cells": [
  {
   "cell_type": "code",
   "execution_count": 10,
   "metadata": {},
   "outputs": [],
   "source": [
    "import os\n",
    "import numpy as np\n",
    "import glob\n",
    "import matplotlib.pyplot as plt\n",
    "# import imageio.v3 as iio\n",
    "import imageio as iio\n",
    "from mlxtend.image import extract_face_landmarks\n",
    "from PIL import Image"
   ]
  },
  {
   "cell_type": "code",
   "execution_count": null,
   "metadata": {},
   "outputs": [],
   "source": [
    "pip install dlib"
   ]
  },
  {
   "cell_type": "markdown",
   "metadata": {},
   "source": [
    "## This is for testing get_compo() function from utils.py"
   ]
  },
  {
   "cell_type": "code",
   "execution_count": 11,
   "metadata": {},
   "outputs": [],
   "source": [
    "# all image feat Nxd and the path for each image\n",
    "images ='./dataset/celeba/images'\n",
    "image_path = [x for x in glob.glob(os.path.join(images, '*', '*')) if len(x.split('/')[-1].split('\\\\')[-1]) == 10]"
   ]
  },
  {
   "cell_type": "code",
   "execution_count": 12,
   "metadata": {},
   "outputs": [
    {
     "name": "stdout",
     "output_type": "stream",
     "text": [
      "./dataset/celeba/images\\1\\000355.jpg\n",
      "[[ 49 110]\n",
      " [ 50 121]\n",
      " [ 52 133]\n",
      " [ 55 144]\n",
      " [ 60 154]\n",
      " [ 66 163]\n",
      " [ 73 170]\n",
      " [ 81 175]\n",
      " [ 91 175]\n",
      " [101 173]\n",
      " [109 168]\n",
      " [115 160]\n",
      " [121 151]\n",
      " [125 141]\n",
      " [126 131]\n",
      " [127 120]\n",
      " [127 109]\n",
      " [ 55 105]\n",
      " [ 60  99]\n",
      " [ 68  98]\n",
      " [ 75 100]\n",
      " [ 82 102]\n",
      " [ 94 102]\n",
      " [101 100]\n",
      " [109  98]\n",
      " [117  99]\n",
      " [123 105]\n",
      " [ 88 111]\n",
      " [ 88 117]\n",
      " [ 89 124]\n",
      " [ 89 131]\n",
      " [ 80 137]\n",
      " [ 85 138]\n",
      " [ 89 138]\n",
      " [ 93 137]\n",
      " [ 97 137]\n",
      " [ 63 111]\n",
      " [ 67 110]\n",
      " [ 72 110]\n",
      " [ 77 112]\n",
      " [ 72 114]\n",
      " [ 67 114]\n",
      " [100 113]\n",
      " [105 110]\n",
      " [110 110]\n",
      " [114 111]\n",
      " [110 114]\n",
      " [105 114]\n",
      " [ 74 153]\n",
      " [ 79 149]\n",
      " [ 85 147]\n",
      " [ 89 149]\n",
      " [ 93 147]\n",
      " [ 99 149]\n",
      " [103 152]\n",
      " [ 99 158]\n",
      " [ 94 160]\n",
      " [ 89 161]\n",
      " [ 85 161]\n",
      " [ 79 158]\n",
      " [ 76 153]\n",
      " [ 85 152]\n",
      " [ 89 153]\n",
      " [ 93 152]\n",
      " [101 152]\n",
      " [ 93 152]\n",
      " [ 89 153]\n",
      " [ 85 152]]\n"
     ]
    }
   ],
   "source": [
    "# 'forehead', 'eyebrow', 'eye', 'mouth', 'chin', 'cheek', 'nose', 'ear', 'temple', 'nostril', 'tooth', 'lip', 'tongue', 'skin'\n",
    "landmarks = extract_face_landmarks(iio.imread(image_path[151]))\n",
    "print(image_path[151])\n",
    "print(landmarks)"
   ]
  },
  {
   "cell_type": "code",
   "execution_count": 251,
   "metadata": {},
   "outputs": [],
   "source": [
    "# eye\n",
    "# x = [x for x in range(landmarks[36, 0], landmarks[39, 0])] + [x for x in range(landmarks[42, 0], landmarks[45, 0])]\n",
    "# x\n",
    "# y = [x for x in range(landmarks[38, 1] if landmarks[38, 1] < landmarks[44, 1] else landmarks[44, 1], landmarks[40, 1] if landmarks[40, 1] < landmarks[46, 1] else landmarks[46, 1])]\n",
    "# y"
   ]
  },
  {
   "cell_type": "code",
   "execution_count": 252,
   "metadata": {},
   "outputs": [],
   "source": [
    "# forehead\n",
    "# x = [i for i in range(landmarks[17, 0], landmarks[26, 0])]\n",
    "# y = [j for j in range(70, landmarks[19, 1] if landmarks[19, 1] > landmarks[24, 1] else landmarks[24, 1])]"
   ]
  },
  {
   "cell_type": "code",
   "execution_count": 253,
   "metadata": {},
   "outputs": [],
   "source": [
    "x = [i for i in range(landmarks[17, 0], landmarks[21, 0])] + [x for x in range(landmarks[22, 0], landmarks[26, 0])]\n",
    "y = [j for j in range(landmarks[19, 1] if landmarks[19, 1] > landmarks[24, 1] else landmarks[24, 1], landmarks[17, 1] if landmarks[17, 1] < landmarks[22, 1] else landmarks[22, 1])]"
   ]
  },
  {
   "cell_type": "code",
   "execution_count": 254,
   "metadata": {},
   "outputs": [
    {
     "data": {
      "text/plain": [
       "[55,\n",
       " 56,\n",
       " 57,\n",
       " 58,\n",
       " 59,\n",
       " 60,\n",
       " 61,\n",
       " 62,\n",
       " 63,\n",
       " 64,\n",
       " 65,\n",
       " 66,\n",
       " 67,\n",
       " 68,\n",
       " 69,\n",
       " 70,\n",
       " 71,\n",
       " 72,\n",
       " 73,\n",
       " 74,\n",
       " 75,\n",
       " 76,\n",
       " 77,\n",
       " 78,\n",
       " 79,\n",
       " 80,\n",
       " 81,\n",
       " 93,\n",
       " 94,\n",
       " 95,\n",
       " 96,\n",
       " 97,\n",
       " 98,\n",
       " 99,\n",
       " 100,\n",
       " 101,\n",
       " 102,\n",
       " 103,\n",
       " 104,\n",
       " 105,\n",
       " 106,\n",
       " 107,\n",
       " 108,\n",
       " 109,\n",
       " 110,\n",
       " 111,\n",
       " 112,\n",
       " 113,\n",
       " 114,\n",
       " 115,\n",
       " 116,\n",
       " 117,\n",
       " 118,\n",
       " 119,\n",
       " 120,\n",
       " 121]"
      ]
     },
     "execution_count": 254,
     "metadata": {},
     "output_type": "execute_result"
    }
   ],
   "source": [
    "x"
   ]
  },
  {
   "cell_type": "code",
   "execution_count": 255,
   "metadata": {},
   "outputs": [
    {
     "data": {
      "text/plain": [
       "[98, 99, 100, 101, 102]"
      ]
     },
     "execution_count": 255,
     "metadata": {},
     "output_type": "execute_result"
    }
   ],
   "source": [
    "y"
   ]
  },
  {
   "cell_type": "code",
   "execution_count": 13,
   "metadata": {},
   "outputs": [
    {
     "data": {
      "image/png": "[encoded data removed]",
      "text/plain": [
       "<Figure size 720x720 with 1 Axes>"
      ]
     },
     "metadata": {
      "needs_background": "light"
     },
     "output_type": "display_data"
    }
   ],
   "source": [
    "%matplotlib inline\n",
    "\n",
    "fig = plt.figure(figsize=(10,10))\n",
    "plt.plot(landmarks[:,0], -landmarks[:,1], 'ro', markersize=8, alpha = 0.5)\n",
    "for i in range(landmarks.shape[0]):\n",
    "    plt.text(landmarks[i,0]+1, -landmarks[i,1], str(i), size=14)\n",
    "\n",
    "plt.show()"
   ]
  },
  {
   "cell_type": "code",
   "execution_count": 257,
   "metadata": {},
   "outputs": [],
   "source": [
    "img = Image.open('./dataset/celeba/images/1/000355.jpg')\n",
    "pil_img = img.convert('RGB')\n",
    "arr_img = np.array(pil_img.getdata(), dtype=np.uint8).reshape(pil_img.height, pil_img.width, 3)"
   ]
  },
  {
   "cell_type": "code",
   "execution_count": 258,
   "metadata": {},
   "outputs": [
    {
     "name": "stdout",
     "output_type": "stream",
     "text": [
      "(218, 178, 3)\n",
      "[[[  9   8   4]\n",
      "  [ 10   9   5]\n",
      "  [ 11  10   6]\n",
      "  ...\n",
      "  [ 22  18  15]\n",
      "  [ 21  17  14]\n",
      "  [ 21  17  14]]\n",
      "\n",
      " [[  9   8   4]\n",
      "  [ 10   9   5]\n",
      "  [ 11  10   6]\n",
      "  ...\n",
      "  [ 22  18  15]\n",
      "  [ 21  17  14]\n",
      "  [ 21  17  14]]\n",
      "\n",
      " [[  9   8   4]\n",
      "  [ 10   9   5]\n",
      "  [ 11  10   6]\n",
      "  ...\n",
      "  [ 22  18  15]\n",
      "  [ 21  17  14]\n",
      "  [ 21  17  14]]\n",
      "\n",
      " ...\n",
      "\n",
      " [[253 253 251]\n",
      "  [248 248 246]\n",
      "  [242 242 240]\n",
      "  ...\n",
      "  [198 199 191]\n",
      "  [237 236 231]\n",
      "  [230 229 225]]\n",
      "\n",
      " [[246 246 244]\n",
      "  [244 244 242]\n",
      "  [242 242 240]\n",
      "  ...\n",
      "  [222 223 215]\n",
      "  [246 245 241]\n",
      "  [246 245 243]]\n",
      "\n",
      " [[242 242 240]\n",
      "  [241 241 239]\n",
      "  [240 240 238]\n",
      "  ...\n",
      "  [222 223 215]\n",
      "  [246 245 241]\n",
      "  [246 245 243]]]\n"
     ]
    }
   ],
   "source": [
    "print(arr_img.shape)\n",
    "print(arr_img)"
   ]
  },
  {
   "cell_type": "code",
   "execution_count": 259,
   "metadata": {},
   "outputs": [],
   "source": [
    "for i in range(len(arr_img)):\n",
    "    for j in range(len(arr_img[i])):\n",
    "        if not(j in x and i in y):\n",
    "            arr_img[i][j] = np.array([0, 0, 0])\n",
    "pil_img = Image.fromarray(arr_img)\n",
    "pil_img.save(os.path.join(os.getcwd(), 'images\\img.jpg'))"
   ]
  }
 ],
 "metadata": {
  "interpreter": {
   "hash": "e7b2765c452f16a3a4fadf78b91c0bdc1510ecc5741a067e6b0a43ef6f42ca60"
  },
  "kernelspec": {
   "display_name": "Python 3",
   "language": "python",
   "name": "python3"
  },
  "language_info": {
   "codemirror_mode": {
    "name": "ipython",
    "version": 3
   },
   "file_extension": ".py",
   "mimetype": "text/x-python",
   "name": "python",
   "nbconvert_exporter": "python",
   "pygments_lexer": "ipython3",
   "version": "3.8.5"
  }
 },
 "nbformat": 4,
 "nbformat_minor": 2
}
