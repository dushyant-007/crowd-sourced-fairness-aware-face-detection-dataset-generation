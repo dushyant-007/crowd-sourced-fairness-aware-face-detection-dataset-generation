{
 "cells": [
  {
   "cell_type": "markdown",
   "source": [
    "# Testing Notebook - To be added to Gitignore.\n",
    "\n",
    "We want to make a notebook here , which will help us in running the tests that we want to run on various face detection dataset measures.\n",
    "\n",
    "# The structure of the files.\n",
    "\n",
    "1. For every different model, we will have a folder.\n",
    "    a. For every folder, we will have\n",
    "    b. model_arch saved and weights saved.\n",
    "2. There will be a collected data folder\n",
    "    a. the data to this folder will come from the collected data of Amazon Mechanical Turk.\n",
    "    b. The data will contain a csv file containing details of labels and the name of the image.\n",
    "    c. images folder containing all the images corresponding to the names in the csv file.\n",
    "    d. Dataloader script - it should output a Dataloader that gives a particular image and it's label. The exact label that is to be returned will be decided by the user rather than the model.\n",
    "\n"
   ],
   "metadata": {
    "collapsed": false
   }
  },
  {
   "cell_type": "code",
   "execution_count": null,
   "metadata": {
    "collapsed": true
   },
   "outputs": [],
   "source": []
  }
 ],
 "metadata": {
  "kernelspec": {
   "display_name": "Python 3",
   "language": "python",
   "name": "python3"
  },
  "language_info": {
   "codemirror_mode": {
    "name": "ipython",
    "version": 2
   },
   "file_extension": ".py",
   "mimetype": "text/x-python",
   "name": "python",
   "nbconvert_exporter": "python",
   "pygments_lexer": "ipython2",
   "version": "2.7.6"
  }
 },
 "nbformat": 4,
 "nbformat_minor": 0
}
